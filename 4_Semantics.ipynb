{
 "cells": [
  {
   "cell_type": "markdown",
   "metadata": {},
   "source": [
    "# WordNet"
   ]
  },
  {
   "cell_type": "code",
   "execution_count": 1,
   "metadata": {
    "collapsed": true
   },
   "outputs": [],
   "source": [
    "from nltk.corpus import wordnet as wn"
   ]
  },
  {
   "cell_type": "markdown",
   "metadata": {},
   "source": [
    "`synsets()` function returns a set of synsets that represent the senses of a given word."
   ]
  },
  {
   "cell_type": "code",
   "execution_count": 2,
   "metadata": {},
   "outputs": [
    {
     "data": {
      "text/plain": [
       "[Synset('car.n.01'),\n",
       " Synset('car.n.02'),\n",
       " Synset('car.n.03'),\n",
       " Synset('car.n.04'),\n",
       " Synset('cable_car.n.01')]"
      ]
     },
     "execution_count": 2,
     "metadata": {},
     "output_type": "execute_result"
    }
   ],
   "source": [
    "wn.synsets('car')"
   ]
  },
  {
   "cell_type": "markdown",
   "metadata": {},
   "source": [
    "Each synset has its own name. You can make the synset object by specifying the name."
   ]
  },
  {
   "cell_type": "code",
   "execution_count": 3,
   "metadata": {},
   "outputs": [
    {
     "data": {
      "text/plain": [
       "Synset('car.n.01')"
      ]
     },
     "execution_count": 3,
     "metadata": {},
     "output_type": "execute_result"
    }
   ],
   "source": [
    "wn.synset('car.n.01')"
   ]
  },
  {
   "cell_type": "markdown",
   "metadata": {},
   "source": [
    "A synset is a set of lemmas, which is the disambiguated form of word."
   ]
  },
  {
   "cell_type": "code",
   "execution_count": 4,
   "metadata": {
    "scrolled": true
   },
   "outputs": [
    {
     "data": {
      "text/plain": [
       "[Lemma('car.n.01.car'),\n",
       " Lemma('car.n.01.auto'),\n",
       " Lemma('car.n.01.automobile'),\n",
       " Lemma('car.n.01.machine'),\n",
       " Lemma('car.n.01.motorcar')]"
      ]
     },
     "execution_count": 4,
     "metadata": {},
     "output_type": "execute_result"
    }
   ],
   "source": [
    "wn.synset('car.n.01').lemmas()"
   ]
  },
  {
   "cell_type": "markdown",
   "metadata": {},
   "source": [
    "Each lemma also has its own name so that you can get a lemma object by specifying the name."
   ]
  },
  {
   "cell_type": "code",
   "execution_count": 5,
   "metadata": {},
   "outputs": [
    {
     "data": {
      "text/plain": [
       "Lemma('car.n.01.automobile')"
      ]
     },
     "execution_count": 5,
     "metadata": {},
     "output_type": "execute_result"
    }
   ],
   "source": [
    "wn.lemma('car.n.01.automobile')"
   ]
  },
  {
   "cell_type": "markdown",
   "metadata": {},
   "source": [
    "A lemma is basically a pair of synset and word as a symbol name."
   ]
  },
  {
   "cell_type": "code",
   "execution_count": 6,
   "metadata": {},
   "outputs": [
    {
     "data": {
      "text/plain": [
       "Synset('car.n.01')"
      ]
     },
     "execution_count": 6,
     "metadata": {},
     "output_type": "execute_result"
    }
   ],
   "source": [
    "wn.lemma('car.n.01.automobile').synset()"
   ]
  },
  {
   "cell_type": "code",
   "execution_count": 7,
   "metadata": {},
   "outputs": [
    {
     "data": {
      "text/plain": [
       "'automobile'"
      ]
     },
     "execution_count": 7,
     "metadata": {},
     "output_type": "execute_result"
    }
   ],
   "source": [
    "wn.lemma('car.n.01.automobile').name()"
   ]
  },
  {
   "cell_type": "markdown",
   "metadata": {},
   "source": [
    "There is a convinient method `lemma_names()` that returns a list of lemma names of the synset."
   ]
  },
  {
   "cell_type": "code",
   "execution_count": 8,
   "metadata": {},
   "outputs": [
    {
     "data": {
      "text/plain": [
       "['car', 'auto', 'automobile', 'machine', 'motorcar']"
      ]
     },
     "execution_count": 8,
     "metadata": {},
     "output_type": "execute_result"
    }
   ],
   "source": [
    "wn.synset('car.n.01').lemma_names()"
   ]
  },
  {
   "cell_type": "code",
   "execution_count": 9,
   "metadata": {},
   "outputs": [
    {
     "data": {
      "text/plain": [
       "[['car', 'auto', 'automobile', 'machine', 'motorcar'],\n",
       " ['car', 'railcar', 'railway_car', 'railroad_car'],\n",
       " ['car', 'gondola'],\n",
       " ['car', 'elevator_car'],\n",
       " ['cable_car', 'car']]"
      ]
     },
     "execution_count": 9,
     "metadata": {},
     "output_type": "execute_result"
    }
   ],
   "source": [
    "[synset.lemma_names() for synset in wn.synsets('car')]"
   ]
  },
  {
   "cell_type": "markdown",
   "metadata": {},
   "source": [
    "WordNet is a dictionary. So each synset has a description of its definition and sometimes examples of usage."
   ]
  },
  {
   "cell_type": "code",
   "execution_count": 10,
   "metadata": {},
   "outputs": [
    {
     "data": {
      "text/plain": [
       "'a motor vehicle with four wheels; usually propelled by an internal combustion engine'"
      ]
     },
     "execution_count": 10,
     "metadata": {},
     "output_type": "execute_result"
    }
   ],
   "source": [
    "wn.synset('car.n.01').definition()"
   ]
  },
  {
   "cell_type": "code",
   "execution_count": 11,
   "metadata": {},
   "outputs": [
    {
     "data": {
      "text/plain": [
       "['a motor vehicle with four wheels; usually propelled by an internal combustion engine',\n",
       " 'a wheeled vehicle adapted to the rails of railroad',\n",
       " 'the compartment that is suspended from an airship and that carries personnel and the cargo and the power plant',\n",
       " 'where passengers ride up and down',\n",
       " 'a conveyance for passengers or freight on a cable railway']"
      ]
     },
     "execution_count": 11,
     "metadata": {},
     "output_type": "execute_result"
    }
   ],
   "source": [
    "[synset.definition() for synset in wn.synsets('car')]"
   ]
  },
  {
   "cell_type": "code",
   "execution_count": 12,
   "metadata": {},
   "outputs": [
    {
     "data": {
      "text/plain": [
       "[['he needs a car to get to work'],\n",
       " ['three cars had jumped the rails'],\n",
       " [],\n",
       " ['the car was on the top floor'],\n",
       " ['they took a cable car to the top of the mountain']]"
      ]
     },
     "execution_count": 12,
     "metadata": {},
     "output_type": "execute_result"
    }
   ],
   "source": [
    "[synset.examples() for synset in wn.synsets('car')]"
   ]
  },
  {
   "cell_type": "markdown",
   "metadata": {},
   "source": [
    "## Hyponyms"
   ]
  },
  {
   "cell_type": "code",
   "execution_count": 13,
   "metadata": {
    "collapsed": true
   },
   "outputs": [],
   "source": [
    "motorcar = wn.synset('car.n.01')"
   ]
  },
  {
   "cell_type": "code",
   "execution_count": 14,
   "metadata": {
    "collapsed": true
   },
   "outputs": [],
   "source": [
    "types_of_motorcar = motorcar.hyponyms() "
   ]
  },
  {
   "cell_type": "code",
   "execution_count": 15,
   "metadata": {},
   "outputs": [
    {
     "data": {
      "text/plain": [
       "Synset('ambulance.n.01')"
      ]
     },
     "execution_count": 15,
     "metadata": {},
     "output_type": "execute_result"
    }
   ],
   "source": [
    "types_of_motorcar[0]"
   ]
  },
  {
   "cell_type": "code",
   "execution_count": 16,
   "metadata": {},
   "outputs": [
    {
     "data": {
      "text/plain": [
       "[['ambulance'],\n",
       " ['beach_wagon',\n",
       "  'station_wagon',\n",
       "  'wagon',\n",
       "  'estate_car',\n",
       "  'beach_waggon',\n",
       "  'station_waggon',\n",
       "  'waggon'],\n",
       " ['bus', 'jalopy', 'heap'],\n",
       " ['cab', 'hack', 'taxi', 'taxicab'],\n",
       " ['compact', 'compact_car'],\n",
       " ['convertible'],\n",
       " ['coupe'],\n",
       " ['cruiser',\n",
       "  'police_cruiser',\n",
       "  'patrol_car',\n",
       "  'police_car',\n",
       "  'prowl_car',\n",
       "  'squad_car'],\n",
       " ['electric', 'electric_automobile', 'electric_car'],\n",
       " ['gas_guzzler'],\n",
       " ['hardtop'],\n",
       " ['hatchback'],\n",
       " ['horseless_carriage'],\n",
       " ['hot_rod', 'hot-rod'],\n",
       " ['jeep', 'landrover'],\n",
       " ['limousine', 'limo'],\n",
       " ['loaner'],\n",
       " ['minicar'],\n",
       " ['minivan'],\n",
       " ['Model_T'],\n",
       " ['pace_car'],\n",
       " ['racer', 'race_car', 'racing_car'],\n",
       " ['roadster', 'runabout', 'two-seater'],\n",
       " ['sedan', 'saloon'],\n",
       " ['sport_utility', 'sport_utility_vehicle', 'S.U.V.', 'SUV'],\n",
       " ['sports_car', 'sport_car'],\n",
       " ['Stanley_Steamer'],\n",
       " ['stock_car'],\n",
       " ['subcompact', 'subcompact_car'],\n",
       " ['touring_car', 'phaeton', 'tourer'],\n",
       " ['used-car', 'secondhand_car']]"
      ]
     },
     "execution_count": 16,
     "metadata": {},
     "output_type": "execute_result"
    }
   ],
   "source": [
    "[synset.lemma_names() for synset in types_of_motorcar]"
   ]
  },
  {
   "cell_type": "markdown",
   "metadata": {},
   "source": [
    "## Hypernyms"
   ]
  },
  {
   "cell_type": "code",
   "execution_count": 17,
   "metadata": {},
   "outputs": [
    {
     "data": {
      "text/plain": [
       "[Synset('motor_vehicle.n.01')]"
      ]
     },
     "execution_count": 17,
     "metadata": {},
     "output_type": "execute_result"
    }
   ],
   "source": [
    "motorcar.hypernyms()"
   ]
  },
  {
   "cell_type": "code",
   "execution_count": 18,
   "metadata": {
    "collapsed": true
   },
   "outputs": [],
   "source": [
    "paths = motorcar.hypernym_paths()"
   ]
  },
  {
   "cell_type": "code",
   "execution_count": 19,
   "metadata": {},
   "outputs": [
    {
     "data": {
      "text/plain": [
       "2"
      ]
     },
     "execution_count": 19,
     "metadata": {},
     "output_type": "execute_result"
    }
   ],
   "source": [
    "len(paths)"
   ]
  },
  {
   "cell_type": "code",
   "execution_count": 20,
   "metadata": {},
   "outputs": [
    {
     "data": {
      "text/plain": [
       "[Synset('entity.n.01'),\n",
       " Synset('physical_entity.n.01'),\n",
       " Synset('object.n.01'),\n",
       " Synset('whole.n.02'),\n",
       " Synset('artifact.n.01'),\n",
       " Synset('instrumentality.n.03'),\n",
       " Synset('container.n.01'),\n",
       " Synset('wheeled_vehicle.n.01'),\n",
       " Synset('self-propelled_vehicle.n.01'),\n",
       " Synset('motor_vehicle.n.01'),\n",
       " Synset('car.n.01')]"
      ]
     },
     "execution_count": 20,
     "metadata": {},
     "output_type": "execute_result"
    }
   ],
   "source": [
    "paths[0]"
   ]
  },
  {
   "cell_type": "code",
   "execution_count": 21,
   "metadata": {},
   "outputs": [
    {
     "data": {
      "text/plain": [
       "[Synset('entity.n.01'),\n",
       " Synset('physical_entity.n.01'),\n",
       " Synset('object.n.01'),\n",
       " Synset('whole.n.02'),\n",
       " Synset('artifact.n.01'),\n",
       " Synset('instrumentality.n.03'),\n",
       " Synset('conveyance.n.03'),\n",
       " Synset('vehicle.n.01'),\n",
       " Synset('wheeled_vehicle.n.01'),\n",
       " Synset('self-propelled_vehicle.n.01'),\n",
       " Synset('motor_vehicle.n.01'),\n",
       " Synset('car.n.01')]"
      ]
     },
     "execution_count": 21,
     "metadata": {},
     "output_type": "execute_result"
    }
   ],
   "source": [
    "paths[1]"
   ]
  },
  {
   "cell_type": "code",
   "execution_count": 22,
   "metadata": {},
   "outputs": [
    {
     "data": {
      "text/plain": [
       "[Synset('entity.n.01')]"
      ]
     },
     "execution_count": 22,
     "metadata": {},
     "output_type": "execute_result"
    }
   ],
   "source": [
    "motorcar.root_hypernyms()"
   ]
  },
  {
   "cell_type": "markdown",
   "metadata": {},
   "source": [
    "## Meronyms and Holonyms"
   ]
  },
  {
   "cell_type": "code",
   "execution_count": 23,
   "metadata": {},
   "outputs": [
    {
     "data": {
      "text/plain": [
       "[Synset('burl.n.02'),\n",
       " Synset('crown.n.07'),\n",
       " Synset('limb.n.02'),\n",
       " Synset('stump.n.01'),\n",
       " Synset('trunk.n.01')]"
      ]
     },
     "execution_count": 23,
     "metadata": {},
     "output_type": "execute_result"
    }
   ],
   "source": [
    "wn.synset('tree.n.01').part_meronyms()"
   ]
  },
  {
   "cell_type": "code",
   "execution_count": 24,
   "metadata": {},
   "outputs": [
    {
     "data": {
      "text/plain": [
       "[Synset('heartwood.n.01'), Synset('sapwood.n.01')]"
      ]
     },
     "execution_count": 24,
     "metadata": {},
     "output_type": "execute_result"
    }
   ],
   "source": [
    "wn.synset('tree.n.01').substance_meronyms()"
   ]
  },
  {
   "cell_type": "code",
   "execution_count": 25,
   "metadata": {},
   "outputs": [
    {
     "data": {
      "text/plain": [
       "[Synset('forest.n.01')]"
      ]
     },
     "execution_count": 25,
     "metadata": {},
     "output_type": "execute_result"
    }
   ],
   "source": [
    "wn.synset('tree.n.01').member_holonyms()"
   ]
  },
  {
   "cell_type": "markdown",
   "metadata": {},
   "source": [
    "## Entailments"
   ]
  },
  {
   "cell_type": "code",
   "execution_count": 26,
   "metadata": {},
   "outputs": [
    {
     "data": {
      "text/plain": [
       "[Synset('step.v.01')]"
      ]
     },
     "execution_count": 26,
     "metadata": {},
     "output_type": "execute_result"
    }
   ],
   "source": [
    "wn.synset('walk.v.01').entailments()"
   ]
  },
  {
   "cell_type": "code",
   "execution_count": 27,
   "metadata": {},
   "outputs": [
    {
     "data": {
      "text/plain": [
       "[Synset('chew.v.01'), Synset('swallow.v.01')]"
      ]
     },
     "execution_count": 27,
     "metadata": {},
     "output_type": "execute_result"
    }
   ],
   "source": [
    "wn.synset('eat.v.01').entailments()"
   ]
  },
  {
   "cell_type": "markdown",
   "metadata": {},
   "source": [
    "## Antonyms"
   ]
  },
  {
   "cell_type": "code",
   "execution_count": 28,
   "metadata": {},
   "outputs": [
    {
     "data": {
      "text/plain": [
       "[Lemma('demand.n.02.demand')]"
      ]
     },
     "execution_count": 28,
     "metadata": {},
     "output_type": "execute_result"
    }
   ],
   "source": [
    "wn.lemma('supply.n.02.supply').antonyms()"
   ]
  },
  {
   "cell_type": "code",
   "execution_count": 29,
   "metadata": {},
   "outputs": [
    {
     "data": {
      "text/plain": [
       "[Lemma('inclined.a.02.inclined'), Lemma('vertical.a.01.vertical')]"
      ]
     },
     "execution_count": 29,
     "metadata": {},
     "output_type": "execute_result"
    }
   ],
   "source": [
    "wn.lemma('horizontal.a.01.horizontal').antonyms()"
   ]
  },
  {
   "cell_type": "markdown",
   "metadata": {},
   "source": [
    "# Semantic Similarities based on WordNet"
   ]
  },
  {
   "cell_type": "code",
   "execution_count": 30,
   "metadata": {
    "collapsed": true
   },
   "outputs": [],
   "source": [
    "nickel = wn.synset('nickel.n.02')\n",
    "dime = wn.synset('dime.n.01')\n",
    "money = wn.synset('money.n.01')"
   ]
  },
  {
   "cell_type": "code",
   "execution_count": 31,
   "metadata": {},
   "outputs": [
    {
     "data": {
      "text/plain": [
       "[Synset('coin.n.01')]"
      ]
     },
     "execution_count": 31,
     "metadata": {},
     "output_type": "execute_result"
    }
   ],
   "source": [
    "nickel.lowest_common_hypernyms(dime)"
   ]
  },
  {
   "cell_type": "code",
   "execution_count": 32,
   "metadata": {},
   "outputs": [
    {
     "data": {
      "text/plain": [
       "[Synset('medium_of_exchange.n.01')]"
      ]
     },
     "execution_count": 32,
     "metadata": {},
     "output_type": "execute_result"
    }
   ],
   "source": [
    "nickel.lowest_common_hypernyms(money)"
   ]
  },
  {
   "cell_type": "code",
   "execution_count": 33,
   "metadata": {},
   "outputs": [
    {
     "data": {
      "text/plain": [
       "8"
      ]
     },
     "execution_count": 33,
     "metadata": {},
     "output_type": "execute_result"
    }
   ],
   "source": [
    "wn.synset('coin.n.01').min_depth()"
   ]
  },
  {
   "cell_type": "code",
   "execution_count": 34,
   "metadata": {},
   "outputs": [
    {
     "data": {
      "text/plain": [
       "5"
      ]
     },
     "execution_count": 34,
     "metadata": {},
     "output_type": "execute_result"
    }
   ],
   "source": [
    "wn.synset('medium_of_exchange.n.01').min_depth()"
   ]
  },
  {
   "cell_type": "markdown",
   "metadata": {},
   "source": [
    "### Path length similarity"
   ]
  },
  {
   "cell_type": "code",
   "execution_count": 35,
   "metadata": {},
   "outputs": [
    {
     "data": {
      "text/plain": [
       "0.3333333333333333"
      ]
     },
     "execution_count": 35,
     "metadata": {},
     "output_type": "execute_result"
    }
   ],
   "source": [
    "nickel.path_similarity(dime)"
   ]
  },
  {
   "cell_type": "code",
   "execution_count": 36,
   "metadata": {},
   "outputs": [
    {
     "data": {
      "text/plain": [
       "0.16666666666666666"
      ]
     },
     "execution_count": 36,
     "metadata": {},
     "output_type": "execute_result"
    }
   ],
   "source": [
    "nickel.path_similarity(money)"
   ]
  },
  {
   "cell_type": "markdown",
   "metadata": {},
   "source": [
    "### Resnik similarity"
   ]
  },
  {
   "cell_type": "code",
   "execution_count": 37,
   "metadata": {},
   "outputs": [],
   "source": [
    "from nltk.corpus import wordnet_ic\n",
    "brown_ic = wordnet_ic.ic('ic-brown.dat')"
   ]
  },
  {
   "cell_type": "code",
   "execution_count": 38,
   "metadata": {},
   "outputs": [
    {
     "data": {
      "text/plain": [
       "7.455288045755159"
      ]
     },
     "execution_count": 38,
     "metadata": {},
     "output_type": "execute_result"
    }
   ],
   "source": [
    "nickel.res_similarity(dime, brown_ic)"
   ]
  },
  {
   "cell_type": "code",
   "execution_count": 39,
   "metadata": {
    "scrolled": true
   },
   "outputs": [
    {
     "data": {
      "text/plain": [
       "6.254931881899411"
      ]
     },
     "execution_count": 39,
     "metadata": {},
     "output_type": "execute_result"
    }
   ],
   "source": [
    "nickel.res_similarity(money, brown_ic)"
   ]
  },
  {
   "cell_type": "markdown",
   "metadata": {},
   "source": [
    "### Lin similarity"
   ]
  },
  {
   "cell_type": "code",
   "execution_count": 40,
   "metadata": {},
   "outputs": [
    {
     "data": {
      "text/plain": [
       "0.6073758971525297"
      ]
     },
     "execution_count": 40,
     "metadata": {},
     "output_type": "execute_result"
    }
   ],
   "source": [
    "nickel.lin_similarity(dime, brown_ic)"
   ]
  },
  {
   "cell_type": "code",
   "execution_count": 41,
   "metadata": {},
   "outputs": [
    {
     "data": {
      "text/plain": [
       "0.6191356626837683"
      ]
     },
     "execution_count": 41,
     "metadata": {},
     "output_type": "execute_result"
    }
   ],
   "source": [
    "nickel.lin_similarity(money, brown_ic)"
   ]
  },
  {
   "cell_type": "markdown",
   "metadata": {},
   "source": [
    "# Co-occurrence Words"
   ]
  },
  {
   "cell_type": "code",
   "execution_count": 42,
   "metadata": {
    "collapsed": true
   },
   "outputs": [],
   "source": [
    "from nltk.corpus import brown\n",
    "docs = [brown.words(fileid) for fileid in brown.fileids()]"
   ]
  },
  {
   "cell_type": "code",
   "execution_count": 43,
   "metadata": {},
   "outputs": [],
   "source": [
    "import nltk\n",
    "text = nltk.Text([w for doc in docs for w in doc])"
   ]
  },
  {
   "cell_type": "code",
   "execution_count": 44,
   "metadata": {},
   "outputs": [
    {
     "name": "stdout",
     "output_type": "stream",
     "text": [
      "Displaying 25 of 54 matches:\n",
      " year hailed the message . Senate Republican Leader Dirksen ( Ill. ) and House\n",
      "Leader Dirksen ( Ill. ) and House Republican Leader Charles Halleck ( Ind. ) s\n",
      "umental blunders '' in Cuba . One Republican senator told this correspondent t\n",
      "R ) of Kentucky , chairman of the Republican National Committee , that the Ken\n",
      "in both parties -- Democratic and Republican -- should divorce themselves and \n",
      "did not mention it when the three Republican gubernatorial candidates spoke at\n",
      " is the apparent intention of the Republican Party to campaign on the carcass \n",
      "wer retired . Now he's gone , the Republican Party is not going to be able to \n",
      " but there is nothing left of the Republican Party without his leadership '' .\n",
      " he was proud to be an Eisenhower Republican `` and proud to have absorbed his\n",
      "ate that Jones will be chosen the Republican Party's nominee with the largest \n",
      "tfield , as state chairman of the Republican Women for Jones Committee . Mrs. \n",
      "resident of the Westfield Women's Republican Club and is a Westfield county co\n",
      " Sheeran of West Orange , for the Republican nomination for sheriff of Essex C\n",
      "er FBI man is running against the Republican organization's candidate , Freeho\n",
      "cans , Hughes said , `` The three Republican candidates for governor are tripp\n",
      "ting the state as they did in the Republican administration in the early 1940s\n",
      "orms or other issues in which the Republican candidates are involved . He said\n",
      "I'm not afraid to tangle with the Republican nominee '' . Trenton -- Fifteen m\n",
      "Trenton -- Fifteen members of the Republican State Committee who are retiring \n",
      " will be leaving by choice of the Republican voters . A special presentation w\n",
      ". He will attend a meeting of the Republican State Central Committee Saturday \n",
      "tly Virginia judge , and the four Republican members , could and often did pro\n",
      "ncluding one Southerner , and one Republican ) . Smith flatly rejected the off\n",
      "Hubert Humphrey to Massachusetts' Republican Leverett Saltonstall -- was drawn\n"
     ]
    }
   ],
   "source": [
    "text.concordance('republican')"
   ]
  },
  {
   "cell_type": "code",
   "execution_count": 45,
   "metadata": {},
   "outputs": [
    {
     "name": "stdout",
     "output_type": "stream",
     "text": [
      "Displaying 25 of 109 matches:\n",
      "and chairman of the Miller County Democratic Executive Committee . Davis recei\n",
      " conservatives in both parties -- Democratic and Republican -- should divorce \n",
      "pokesmen for the town's insurgent Democratic leadership speaking out against t\n",
      "e a remark by Richard J. Hughes , Democratic gubernatorial candidate , that th\n",
      "ay by Hughes at a Westfield Young Democratic Club cocktail party at the Scotch\n",
      "eets , who is a candidate for the Democratic gubernatorial nomination , today \n",
      "s County debut in his bid for the Democratic gubernatorial nomination here las\n",
      "state '' . He promised nearly 200 Democratic county committee members at the m\n",
      "ughes asked , `` a representative Democratic vote in the primary for a springb\n",
      "entment welled up yesterday among Democratic district leaders and some county \n",
      " reaction among anti-organization Democratic leaders and in the Liberal party \n",
      " bitter internal fight within the Democratic party that has been going on for \n",
      "hree years . The resentment among Democratic organization leaders to the repor\n",
      " party . Opposition reported Some Democratic district and county leaders are r\n",
      "Mayoral nomination in the Sept. 7 Democratic primary . These contend there is \n",
      " Wagner has the confidence of the Democratic rank and file in the city . Their\n",
      "Mayor is proposing to make in the Democratic ticket only emphasize the weaknes\n",
      "ve Charles A. Buckley , the Bronx Democratic leader , and with Joseph T. Shark\n",
      " Joseph T. Sharkey , the Brooklyn Democratic leader . Mayor visits Buckley As \n",
      " Mr. Buckley holds the key to the Democratic organization's acceptance of his \n",
      "nd conservative Republicans . The Democratic leadership , however , hopes to p\n",
      "es Committee , where two Northern Democratic members who usually vote with the\n",
      "ppi's relations with the national Democratic party will be at a crossroads dur\n",
      "oads during 1961 , with the first Democratic president in eight years in the W\n",
      " loyalists and independents , the Democratic party in Mississippi is currently\n"
     ]
    }
   ],
   "source": [
    "text.concordance('democratic')"
   ]
  },
  {
   "cell_type": "code",
   "execution_count": 46,
   "metadata": {},
   "outputs": [
    {
     "name": "stdout",
     "output_type": "stream",
     "text": [
      "house_leader the_national the_party the_organization's a_or\n"
     ]
    }
   ],
   "source": [
    "text.common_contexts(['republican', 'democratic'])"
   ]
  },
  {
   "cell_type": "code",
   "execution_count": 47,
   "metadata": {},
   "outputs": [
    {
     "name": "stdout",
     "output_type": "stream",
     "text": [
      "democratic recent `` other first the . are two one new ( wife more\n",
      "local good college minute thing positive\n"
     ]
    }
   ],
   "source": [
    "text.similar('republican')"
   ]
  },
  {
   "cell_type": "code",
   "execution_count": 48,
   "metadata": {},
   "outputs": [
    {
     "name": "stdout",
     "output_type": "stream",
     "text": [
      "time it people one children way work life man action water war men\n",
      "place house , them af day others\n"
     ]
    }
   ],
   "source": [
    "text.similar('money')"
   ]
  },
  {
   "cell_type": "markdown",
   "metadata": {},
   "source": [
    "# Word Embeddings"
   ]
  },
  {
   "cell_type": "markdown",
   "metadata": {},
   "source": [
    "Download \"Pre-trained word and phrase vectors\" (GoogleNews-vectors-negative300.bin.gz) that is available at the website below.\n",
    "https://code.google.com/archive/p/word2vec/"
   ]
  },
  {
   "cell_type": "code",
   "execution_count": 49,
   "metadata": {},
   "outputs": [],
   "source": [
    "from gensim.models import KeyedVectors\n",
    "\n",
    "# Please change to your path\n",
    "path_to_model = '/Users/kei/Downloads/GoogleNews-vectors-negative300.bin'\n",
    "model = KeyedVectors.load_word2vec_format(path_to_model, binary=True)"
   ]
  },
  {
   "cell_type": "code",
   "execution_count": 50,
   "metadata": {},
   "outputs": [
    {
     "data": {
      "text/plain": [
       "[('monies', 0.7165061235427856),\n",
       " ('funds', 0.7055202722549438),\n",
       " ('moneys', 0.6289056539535522),\n",
       " ('dollars', 0.628852367401123),\n",
       " ('cash', 0.6151220798492432),\n",
       " ('vast_sums', 0.6057385206222534),\n",
       " ('fund', 0.5789710283279419),\n",
       " ('Money', 0.5733489394187927),\n",
       " ('taxpayer_dollars', 0.5693670511245728),\n",
       " ('Monies', 0.5586516857147217)]"
      ]
     },
     "execution_count": 50,
     "metadata": {},
     "output_type": "execute_result"
    }
   ],
   "source": [
    "model.most_similar('money')"
   ]
  },
  {
   "cell_type": "code",
   "execution_count": 51,
   "metadata": {},
   "outputs": [
    {
     "data": {
      "text/plain": [
       "[('GOP', 0.879696249961853),\n",
       " ('Democratic', 0.8598263263702393),\n",
       " ('Democrat', 0.8078877329826355),\n",
       " ('Republicans', 0.773737907409668),\n",
       " ('Democrats', 0.7363811731338501),\n",
       " ('Re_publican', 0.678870439529419),\n",
       " ('Repub_lican', 0.6606504917144775),\n",
       " ('Repubican', 0.6556392908096313),\n",
       " ('Republian', 0.6437903642654419),\n",
       " ('Repub_licans', 0.6405728459358215)]"
      ]
     },
     "execution_count": 51,
     "metadata": {},
     "output_type": "execute_result"
    }
   ],
   "source": [
    "model.most_similar('Republican')"
   ]
  },
  {
   "cell_type": "code",
   "execution_count": 52,
   "metadata": {},
   "outputs": [
    {
     "data": {
      "text/plain": [
       "[('Hillary_Clinton', 0.7631065845489502),\n",
       " ('Obama', 0.7526832222938538),\n",
       " ('Bill_Clinton', 0.7416832447052002),\n",
       " ('Hillary_Rodham_Clinton', 0.7254316806793213),\n",
       " ('Sen._Hillary_Clinton', 0.7086110711097717),\n",
       " ('Hillary', 0.6970474123954773),\n",
       " ('Senator_Hillary_Clinton', 0.6961780786514282),\n",
       " ('McCain', 0.6851686835289001),\n",
       " ('Clintons', 0.6733236908912659),\n",
       " ('Barack_Obama', 0.6713167428970337)]"
      ]
     },
     "execution_count": 52,
     "metadata": {},
     "output_type": "execute_result"
    }
   ],
   "source": [
    "model.most_similar('Clinton')"
   ]
  },
  {
   "cell_type": "code",
   "execution_count": 53,
   "metadata": {},
   "outputs": [
    {
     "data": {
      "text/plain": [
       "[('queen', 0.7118192315101624),\n",
       " ('monarch', 0.6189674139022827),\n",
       " ('princess', 0.5902431011199951),\n",
       " ('crown_prince', 0.5499460697174072),\n",
       " ('prince', 0.5377321839332581),\n",
       " ('kings', 0.5236844420433044),\n",
       " ('Queen_Consort', 0.5235946178436279),\n",
       " ('queens', 0.5181134343147278),\n",
       " ('sultan', 0.5098593235015869),\n",
       " ('monarchy', 0.5087412595748901)]"
      ]
     },
     "execution_count": 53,
     "metadata": {},
     "output_type": "execute_result"
    }
   ],
   "source": [
    "model.most_similar(positive=['king', 'woman'], negative=['man'])"
   ]
  },
  {
   "cell_type": "code",
   "execution_count": 54,
   "metadata": {},
   "outputs": [
    {
     "data": {
      "text/plain": [
       "[('aunt', 0.802266538143158),\n",
       " ('mother', 0.7770731449127197),\n",
       " ('niece', 0.7684249877929688),\n",
       " ('father', 0.7237852811813354),\n",
       " ('grandmother', 0.722037136554718),\n",
       " ('daughter', 0.7185647487640381),\n",
       " ('sister', 0.7006257772445679),\n",
       " ('husband', 0.6982547044754028),\n",
       " ('granddaughter', 0.6858305335044861),\n",
       " ('nephew', 0.6710714101791382)]"
      ]
     },
     "execution_count": 54,
     "metadata": {},
     "output_type": "execute_result"
    }
   ],
   "source": [
    "model.most_similar(positive=['uncle', 'woman'], negative=['man'])"
   ]
  },
  {
   "cell_type": "code",
   "execution_count": 55,
   "metadata": {},
   "outputs": [
    {
     "data": {
      "text/plain": [
       "[('Beijing', 0.8216202259063721),\n",
       " ('Shanghai', 0.795141875743866),\n",
       " ('Guangzhou', 0.6529653668403625),\n",
       " ('Beijng', 0.6465170383453369),\n",
       " ('Chinese', 0.6439487934112549),\n",
       " ('Shenzhen', 0.6439114809036255),\n",
       " ('Hong_Kong', 0.633777916431427),\n",
       " ('Taipei', 0.6317877769470215),\n",
       " ('Chongqing', 0.6239099502563477),\n",
       " ('Hangzhou', 0.6204276084899902)]"
      ]
     },
     "execution_count": 55,
     "metadata": {},
     "output_type": "execute_result"
    }
   ],
   "source": [
    "model.most_similar(positive=['Tokyo', 'China'], negative=['Japan'])"
   ]
  },
  {
   "cell_type": "code",
   "execution_count": 56,
   "metadata": {},
   "outputs": [
    {
     "data": {
      "text/plain": [
       "[('Shanghai', 0.7343893051147461),\n",
       " ('Beijing', 0.7120296359062195),\n",
       " ('Guangzhou', 0.6772623062133789),\n",
       " ('Hangzhou', 0.6352313756942749),\n",
       " ('Tianjin', 0.6335029602050781),\n",
       " ('Chongqing', 0.6271936297416687),\n",
       " ('Shenzhen', 0.625232458114624),\n",
       " ('Beijng', 0.6206380724906921),\n",
       " ('Tongzhou', 0.619605302810669),\n",
       " ('Guo', 0.617931604385376)]"
      ]
     },
     "execution_count": 56,
     "metadata": {},
     "output_type": "execute_result"
    }
   ],
   "source": [
    "model.most_similar(positive=['Osaka', 'China'], negative=['Japan'])"
   ]
  },
  {
   "cell_type": "code",
   "execution_count": null,
   "metadata": {
    "collapsed": true
   },
   "outputs": [],
   "source": []
  }
 ],
 "metadata": {
  "kernelspec": {
   "display_name": "Python 3",
   "language": "python",
   "name": "python3"
  },
  "language_info": {
   "codemirror_mode": {
    "name": "ipython",
    "version": 3
   },
   "file_extension": ".py",
   "mimetype": "text/x-python",
   "name": "python",
   "nbconvert_exporter": "python",
   "pygments_lexer": "ipython3",
   "version": "3.6.3"
  }
 },
 "nbformat": 4,
 "nbformat_minor": 2
}
